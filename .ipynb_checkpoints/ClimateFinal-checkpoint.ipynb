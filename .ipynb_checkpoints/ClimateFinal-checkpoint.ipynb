{
 "cells": [
  {
   "cell_type": "code",
   "execution_count": 1,
   "metadata": {},
   "outputs": [],
   "source": [
    "%matplotlib inline\n",
    "from matplotlib import style\n",
    "style.use('fivethirtyeight')\n",
    "import matplotlib.pyplot as plt"
   ]
  },
  {
   "cell_type": "code",
   "execution_count": 2,
   "metadata": {},
   "outputs": [],
   "source": [
    "import numpy as np\n",
    "import pandas as pd"
   ]
  },
  {
   "cell_type": "code",
   "execution_count": 3,
   "metadata": {},
   "outputs": [],
   "source": [
    "import datetime as dt"
   ]
  },
  {
   "cell_type": "markdown",
   "metadata": {},
   "source": [
    "# Reflect Tables into SQLAlchemy ORM"
   ]
  },
  {
   "cell_type": "code",
   "execution_count": 4,
   "metadata": {},
   "outputs": [],
   "source": [
    "# Python SQL toolkit and Object Relational Mapper\n",
    "import sqlalchemy\n",
    "from sqlalchemy.ext.automap import automap_base\n",
    "from sqlalchemy.orm import Session\n",
    "from sqlalchemy import create_engine, func, inspect"
   ]
  },
  {
   "cell_type": "code",
   "execution_count": 5,
   "metadata": {},
   "outputs": [],
   "source": [
    "engine = create_engine(\"sqlite:///Resources/hawaii.sqlite\")"
   ]
  },
  {
   "cell_type": "code",
   "execution_count": 6,
   "metadata": {},
   "outputs": [],
   "source": [
    "# reflect an existing database into a new model\n",
    "Base= automap_base()\n",
    "\n",
    "# reflect the tables\n",
    "Base.prepare(engine, reflect=True)"
   ]
  },
  {
   "cell_type": "code",
   "execution_count": 7,
   "metadata": {},
   "outputs": [
    {
     "data": {
      "text/plain": [
       "['measurement', 'station']"
      ]
     },
     "execution_count": 7,
     "metadata": {},
     "output_type": "execute_result"
    }
   ],
   "source": [
    "# We can view all of the classes that automap found\n",
    "Base.classes.keys()"
   ]
  },
  {
   "cell_type": "code",
   "execution_count": 8,
   "metadata": {},
   "outputs": [],
   "source": [
    "# Save references to each table\n",
    "Measurement=Base.classes.measurement\n",
    "Station=Base.classes.station"
   ]
  },
  {
   "cell_type": "code",
   "execution_count": 9,
   "metadata": {},
   "outputs": [],
   "source": [
    "# Create our session (link) from Python to the DB\n",
    "session= Session(engine)"
   ]
  },
  {
   "cell_type": "code",
   "execution_count": 10,
   "metadata": {},
   "outputs": [
    {
     "name": "stdout",
     "output_type": "stream",
     "text": [
      "id INTEGER\n",
      "station TEXT\n",
      "name TEXT\n",
      "latitude FLOAT\n",
      "longitude FLOAT\n",
      "elevation FLOAT\n"
     ]
    }
   ],
   "source": [
    "#Create an inspector engine and find the name of the columns \n",
    "inspector= inspect(engine)\n",
    "\n",
    "columns= inspector.get_columns('Station')\n",
    "for column in columns:\n",
    "    print(column['name'], column['type'])"
   ]
  },
  {
   "cell_type": "code",
   "execution_count": 11,
   "metadata": {},
   "outputs": [],
   "source": [
    "measurment_inspector= inspect(engine)"
   ]
  },
  {
   "cell_type": "code",
   "execution_count": 12,
   "metadata": {},
   "outputs": [],
   "source": [
    "m = measurment_inspector.get_columns('Measurment')\n",
    "for m_column in m:\n",
    "    print(m_column['name'], m_column[\"type\"])"
   ]
  },
  {
   "cell_type": "code",
   "execution_count": 13,
   "metadata": {},
   "outputs": [
    {
     "data": {
      "text/plain": [
       "[(1, 'USC00519397', '2010-01-01', 0.08, 65.0),\n",
       " (2, 'USC00519397', '2010-01-02', 0.0, 63.0),\n",
       " (3, 'USC00519397', '2010-01-03', 0.0, 74.0),\n",
       " (4, 'USC00519397', '2010-01-04', 0.0, 76.0),\n",
       " (5, 'USC00519397', '2010-01-06', None, 73.0)]"
      ]
     },
     "execution_count": 13,
     "metadata": {},
     "output_type": "execute_result"
    }
   ],
   "source": [
    "#Inspect whats inside mesurments \n",
    "engine.execute('Select * From measurement LIMIT 5').fetchall()"
   ]
  },
  {
   "cell_type": "code",
   "execution_count": 14,
   "metadata": {},
   "outputs": [
    {
     "data": {
      "text/plain": [
       "dict_keys(['__table__', '__module__', '__doc__', '_sa_class_manager', '__init__', 'id', 'station', 'date', 'prcp', 'tobs', '__mapper__'])"
      ]
     },
     "execution_count": 14,
     "metadata": {},
     "output_type": "execute_result"
    }
   ],
   "source": [
    "#Find the columns name in Measurment\n",
    "Measurement.__dict__.keys()"
   ]
  },
  {
   "cell_type": "code",
   "execution_count": null,
   "metadata": {},
   "outputs": [],
   "source": [
    "Measur"
   ]
  },
  {
   "cell_type": "markdown",
   "metadata": {},
   "source": [
    "# Exploratory Climate Analysis"
   ]
  },
  {
   "cell_type": "code",
   "execution_count": 15,
   "metadata": {},
   "outputs": [],
   "source": []
  },
  {
   "cell_type": "code",
   "execution_count": 16,
   "metadata": {},
   "outputs": [
    {
     "name": "stdout",
     "output_type": "stream",
     "text": [
      "('2010-01-01',)\n",
      "('2010-01-02',)\n",
      "('2010-01-03',)\n",
      "('2010-01-04',)\n",
      "('2010-01-06',)\n"
     ]
    }
   ],
   "source": [
    "#What is the date formate\n",
    "date= session.query(Measurement.date).limit(5).all()\n",
    "for dates in date:\n",
    "    print(dates)"
   ]
  },
  {
   "cell_type": "code",
   "execution_count": 17,
   "metadata": {},
   "outputs": [
    {
     "data": {
      "text/plain": [
       "('2010-01-01')"
      ]
     },
     "execution_count": 17,
     "metadata": {},
     "output_type": "execute_result"
    }
   ],
   "source": [
    "#Find the First year\n",
    "session.query(Measurement.date).order_by(Measurement.date).first()"
   ]
  },
  {
   "cell_type": "code",
   "execution_count": 18,
   "metadata": {},
   "outputs": [
    {
     "data": {
      "text/plain": [
       "('2017-08-23')"
      ]
     },
     "execution_count": 18,
     "metadata": {},
     "output_type": "execute_result"
    }
   ],
   "source": [
    "#Find the last year\n",
    "last_year=session.query(Measurement.date).order_by(Measurement.date.desc()).first()\n",
    "last_year"
   ]
  },
  {
   "cell_type": "code",
   "execution_count": 19,
   "metadata": {},
   "outputs": [
    {
     "name": "stdout",
     "output_type": "stream",
     "text": [
      "One year ago was 2016-08-23\n"
     ]
    }
   ],
   "source": [
    "# Calculate the date 1 year ago from the last data point in the database\n",
    "year_ago= dt.date(2017, 8, 23) - dt.timedelta(days=365)\n",
    "print(f\"One year ago was {year_ago}\")"
   ]
  },
  {
   "cell_type": "code",
   "execution_count": 27,
   "metadata": {},
   "outputs": [
    {
     "name": "stdout",
     "output_type": "stream",
     "text": [
      "[('2016-08-23', 0.0), ('2016-08-23', 0.15), ('2016-08-23', 0.05), ('2016-08-23', None), ('2016-08-23', 0.02), ('2016-08-23', 1.79), ('2016-08-23', 0.7), ('2016-08-24', 0.08), ('2016-08-24', 2.15), ('2016-08-24', 2.28), ('2016-08-24', None), ('2016-08-24', 1.22), ('2016-08-24', 2.15), ('2016-08-24', 1.45), ('2016-08-25', 0.08), ('2016-08-25', 0.08), ('2016-08-25', 0.0), ('2016-08-25', 0.0), ('2016-08-25', 0.21), ('2016-08-25', 0.06), ('2016-08-25', 0.11), ('2016-08-26', 0.0), ('2016-08-26', 0.03), ('2016-08-26', 0.02), ('2016-08-26', 0.04), ('2016-08-26', 0.0), ('2016-08-26', 0.01), ('2016-08-27', 0.0), ('2016-08-27', 0.18), ('2016-08-27', 0.02), ('2016-08-27', 0.0), ('2016-08-27', 0.12), ('2016-08-27', None), ('2016-08-28', 0.01), ('2016-08-28', 0.14), ('2016-08-28', 0.14), ('2016-08-28', 0.14), ('2016-08-28', 0.6), ('2016-08-28', 2.07), ('2016-08-29', 0.0), ('2016-08-29', 0.17), ('2016-08-29', 0.04), ('2016-08-29', None), ('2016-08-29', 0.0), ('2016-08-29', 0.35), ('2016-08-29', 0.9), ('2016-08-30', 0.0), ('2016-08-30', 0.0), ('2016-08-30', 0.02), ('2016-08-30', 0.0), ('2016-08-30', 0.0), ('2016-08-30', 0.05), ('2016-08-31', 0.13), ('2016-08-31', 0.1), ('2016-08-31', None), ('2016-08-31', None), ('2016-08-31', 0.25), ('2016-08-31', 0.24), ('2016-08-31', 2.46), ('2016-09-01', 0.0), ('2016-09-01', 0.0), ('2016-09-01', 0.0), ('2016-09-01', None), ('2016-09-01', 0.02), ('2016-09-01', 0.01), ('2016-09-02', 0.0), ('2016-09-02', 0.02), ('2016-09-02', 0.19), ('2016-09-02', None), ('2016-09-02', None), ('2016-09-02', 0.01), ('2016-09-02', 0.03), ('2016-09-03', 0.0), ('2016-09-03', 0.07), ('2016-09-03', 0.08), ('2016-09-03', 0.12), ('2016-09-03', 1.0), ('2016-09-04', 0.03), ('2016-09-04', 0.03), ('2016-09-04', 0.74), ('2016-09-04', 0.14), ('2016-09-04', 0.44), ('2016-09-05', None), ('2016-09-05', 0.11), ('2016-09-05', None), ('2016-09-05', 0.02), ('2016-09-05', 0.03), ('2016-09-05', 0.18), ('2016-09-06', None), ('2016-09-06', 0.05), ('2016-09-06', 0.04), ('2016-09-06', 0.03), ('2016-09-06', 0.11), ('2016-09-06', 1.0), ('2016-09-07', 0.05), ('2016-09-07', 0.1), ('2016-09-07', 0.23), ('2016-09-07', 0.11), ('2016-09-07', 0.16), ('2016-09-07', 1.35), ('2016-09-08', 0.0), ('2016-09-08', 0.22), ('2016-09-08', 0.01), ('2016-09-08', None), ('2016-09-08', 0.01), ('2016-09-08', 0.07), ('2016-09-08', 0.15), ('2016-09-09', 0.03), ('2016-09-09', 0.01), ('2016-09-09', 0.29), ('2016-09-09', None), ('2016-09-09', 0.23), ('2016-09-09', 0.16), ('2016-09-09', 0.35), ('2016-09-10', 0.0), ('2016-09-10', 0.01), ('2016-09-10', 0.14), ('2016-09-10', 0.09), ('2016-09-10', 1.16), ('2016-09-11', 0.05), ('2016-09-11', 0.18), ('2016-09-11', 0.12), ('2016-09-11', 0.3), ('2016-09-11', 0.6), ('2016-09-12', 0.0), ('2016-09-12', 0.04), ('2016-09-12', None), ('2016-09-12', None), ('2016-09-12', 0.15), ('2016-09-12', 0.31), ('2016-09-12', 1.04), ('2016-09-13', 0.02), ('2016-09-13', 0.37), ('2016-09-13', 0.32), ('2016-09-13', None), ('2016-09-13', 0.46), ('2016-09-13', 0.34), ('2016-09-13', 1.2), ('2016-09-14', 1.32), ('2016-09-14', 0.9), ('2016-09-14', 1.84), ('2016-09-14', None), ('2016-09-14', 1.19), ('2016-09-14', 2.33), ('2016-09-14', 6.7), ('2016-09-15', 0.42), ('2016-09-15', 0.12), ('2016-09-15', 0.07), ('2016-09-15', None), ('2016-09-15', 0.17), ('2016-09-15', 0.83), ('2016-09-15', 3.35), ('2016-09-16', 0.06), ('2016-09-16', 0.01), ('2016-09-16', 0.07), ('2016-09-16', 0.0), ('2016-09-16', 0.01), ('2016-09-16', 0.06), ('2016-09-16', 0.61), ('2016-09-17', 0.05), ('2016-09-17', 0.04), ('2016-09-17', 0.0), ('2016-09-17', 0.36), ('2016-09-17', 0.23), ('2016-09-18', 0.0), ('2016-09-18', 0.0), ('2016-09-18', 0.04), ('2016-09-18', 0.07), ('2016-09-18', 0.42), ('2016-09-19', 0.0), ('2016-09-19', 0.01), ('2016-09-19', None), ('2016-09-19', None), ('2016-09-19', 0.05), ('2016-09-19', 0.01), ('2016-09-19', 0.25), ('2016-09-20', 0.0), ('2016-09-20', 0.09), ('2016-09-20', 0.25), ('2016-09-20', 0.0), ('2016-09-20', 0.04), ('2016-09-20', 0.22), ('2016-09-20', 0.43), ('2016-09-21', 0.0), ('2016-09-21', 0.06), ('2016-09-21', 0.02), ('2016-09-21', 0.0), ('2016-09-21', 0.07), ('2016-09-21', 1.02), ('2016-09-22', 0.02), ('2016-09-22', 0.09), ('2016-09-22', 0.17), ('2016-09-22', 0.06), ('2016-09-22', 0.01), ('2016-09-22', 0.34), ('2016-09-22', 0.75), ('2016-09-23', 0.0), ('2016-09-23', 0.15), ('2016-09-23', 0.15), ('2016-09-23', 0.0), ('2016-09-23', 0.0), ('2016-09-23', 0.94), ('2016-09-23', 0.33), ('2016-09-24', 0.0), ('2016-09-24', 0.0), ('2016-09-24', 0.0), ('2016-09-24', 0.0), ('2016-09-24', 0.01), ('2016-09-24', 0.27), ('2016-09-25', 0.0), ('2016-09-25', 0.02), ('2016-09-25', 0.0), ('2016-09-25', 0.0), ('2016-09-25', 0.03), ('2016-09-25', 0.04), ('2016-09-26', 0.06), ('2016-09-26', 0.06), ('2016-09-26', 0.02), ('2016-09-26', None), ('2016-09-26', 0.34), ('2016-09-26', 0.17), ('2016-09-26', 1.02), ('2016-09-27', 0.02), ('2016-09-27', 0.12), ('2016-09-27', 0.0), ('2016-09-27', 0.05), ('2016-09-27', 0.17), ('2016-09-27', 1.0), ('2016-09-28', 0.0), ('2016-09-28', 0.08), ('2016-09-28', 0.0), ('2016-09-28', 0.0), ('2016-09-28', 0.0), ('2016-09-28', 0.0), ('2016-09-28', 0.05), ('2016-09-29', 0.0), ('2016-09-29', 0.49), ('2016-09-29', 0.2), ('2016-09-29', 0.04), ('2016-09-29', 0.18), ('2016-09-29', 0.59), ('2016-09-29', 1.49), ('2016-09-30', 0.0), ('2016-09-30', 0.31), ('2016-09-30', 0.06), ('2016-09-30', None), ('2016-09-30', 0.15), ('2016-09-30', 0.25), ('2016-09-30', 0.38), ('2016-10-01', 0.0), ('2016-10-01', 0.14), ('2016-10-01', 0.08), ('2016-10-01', 0.07), ('2016-10-01', 0.14), ('2016-10-01', 1.02), ('2016-10-02', 0.0), ('2016-10-02', 0.02), ('2016-10-02', 0.03), ('2016-10-02', 0.0), ('2016-10-02', 0.06), ('2016-10-02', 0.61), ('2016-10-03', 0.0), ('2016-10-03', 0.04), ('2016-10-03', 0.03), ('2016-10-03', None), ('2016-10-03', 0.0), ('2016-10-03', 0.16), ('2016-10-03', 0.46), ('2016-10-04', 0.0), ('2016-10-04', 0.0), ('2016-10-04', 0.0), ('2016-10-04', None), ('2016-10-04', 0.0), ('2016-10-04', 0.03), ('2016-10-04', 3.46), ('2016-10-05', 0.0), ('2016-10-05', 0.0), ('2016-10-05', 0.0), ('2016-10-05', None), ('2016-10-05', 0.0), ('2016-10-05', 0.01), ('2016-10-05', 0.81), ('2016-10-06', 0.0), ('2016-10-06', 0.05), ('2016-10-06', 0.0), ('2016-10-06', 0.07), ('2016-10-06', 0.0), ('2016-10-06', 0.0), ('2016-10-06', 0.04), ('2016-10-07', 0.0), ('2016-10-07', 0.0), ('2016-10-07', 0.0), ('2016-10-07', None), ('2016-10-07', 0.0), ('2016-10-07', 0.0), ('2016-10-07', 0.01), ('2016-10-08', 0.0), ('2016-10-08', 0.0), ('2016-10-08', 0.0), ('2016-10-08', 0.0), ('2016-10-08', 0.04), ('2016-10-09', 0.0), ('2016-10-09', 0.0), ('2016-10-09', 0.0), ('2016-10-09', 0.0), ('2016-10-09', 0.0), ('2016-10-10', 0.0), ('2016-10-10', 0.0), ('2016-10-10', None), ('2016-10-10', 0.0), ('2016-10-10', 0.0), ('2016-10-10', 0.0), ('2016-10-11', 0.0), ('2016-10-11', 0.02), ('2016-10-11', 0.04), ('2016-10-11', None), ('2016-10-11', 0.0), ('2016-10-11', 0.28), ('2016-10-11', 0.35), ('2016-10-12', 0.0), ('2016-10-12', 0.03), ('2016-10-12', 0.0), ('2016-10-12', 0.0), ('2016-10-12', 0.03), ('2016-10-12', 0.02), ('2016-10-13', 0.0), ('2016-10-13', 0.0), ('2016-10-13', 0.02), ('2016-10-13', None), ('2016-10-13', 0.0), ('2016-10-13', 0.0), ('2016-10-13', 0.06), ('2016-10-14', 0.0), ('2016-10-14', 0.0), ('2016-10-14', 0.0), ('2016-10-14', 0.0), ('2016-10-14', 0.0), ('2016-10-14', 0.0), ('2016-10-15', 0.0), ('2016-10-15', 0.0), ('2016-10-15', 0.02), ('2016-10-15', 0.0), ('2016-10-15', 0.04), ('2016-10-15', 0.33), ('2016-10-16', 0.0), ('2016-10-16', 0.0), ('2016-10-16', 0.0), ('2016-10-16', 0.0), ('2016-10-16', 0.0), ('2016-10-17', 0.01), ('2016-10-17', 0.03), ('2016-10-17', None), ('2016-10-17', None), ('2016-10-17', 0.12), ('2016-10-17', 0.01), ('2016-10-17', 0.38), ('2016-10-18', 0.0), ('2016-10-18', 0.05), ('2016-10-18', 0.03), ('2016-10-18', None), ('2016-10-18', 0.02), ('2016-10-18', 0.02), ('2016-10-18', 0.48), ('2016-10-19', 0.0), ('2016-10-19', 0.06), ('2016-10-19', 0.0), ('2016-10-19', None), ('2016-10-19', 0.0), ('2016-10-19', 0.11), ('2016-10-19', 0.0), ('2016-10-20', 0.0), ('2016-10-20', 0.0), ('2016-10-20', 0.01), ('2016-10-20', None), ('2016-10-20', 0.0), ('2016-10-20', 1.0), ('2016-10-21', 0.05), ('2016-10-21', 0.15), ('2016-10-21', 0.03), ('2016-10-21', None), ('2016-10-21', None), ('2016-10-21', 0.0), ('2016-10-21', 0.09), ('2016-10-22', 0.15), ('2016-10-22', 0.1), ('2016-10-22', 0.0), ('2016-10-22', 0.15), ('2016-10-22', 1.37), ('2016-10-23', 0.01), ('2016-10-23', 0.01), ('2016-10-23', None), ('2016-10-23', 0.0), ('2016-10-23', 0.02), ('2016-10-23', 0.24), ('2016-10-24', 0.0), ('2016-10-24', 0.0), ('2016-10-24', 0.01), ('2016-10-24', None), ('2016-10-24', 0.0), ('2016-10-24', 0.08), ('2016-10-24', 0.7), ('2016-10-25', 0.03), ('2016-10-25', 0.04), ('2016-10-25', 0.0), ('2016-10-25', 0.4), ('2016-10-25', 0.12), ('2016-10-25', 0.11), ('2016-10-25', 0.4), ('2016-10-26', 0.0), ('2016-10-26', 0.06), ('2016-10-26', 0.2), ('2016-10-26', 0.02), ('2016-10-26', 0.01), ('2016-10-26', 0.0), ('2016-10-27', 0.0), ('2016-10-27', 0.11), ('2016-10-27', 0.2), ('2016-10-27', None), ('2016-10-27', 0.08), ('2016-10-27', 0.22), ('2016-10-27', 1.25), ('2016-10-28', 0.0), ('2016-10-28', 0.02), ('2016-10-28', 0.07), ('2016-10-28', None), ('2016-10-28', 0.06), ('2016-10-28', 0.05), ('2016-10-28', 0.37), ('2016-10-29', 0.0), ('2016-10-29', 0.02), ('2016-10-29', 0.26), ('2016-10-29', 0.01), ('2016-10-29', 0.1), ('2016-10-29', 0.25), ('2016-10-30', 0.24), ('2016-10-30', 0.1), ('2016-10-30', 0.14), ('2016-10-30', 0.0), ('2016-10-30', 0.16), ('2016-10-30', 0.95), ('2016-10-31', 0.03), ('2016-10-31', 0.03), ('2016-10-31', 0.0), ('2016-10-31', None), ('2016-10-31', 0.13), ('2016-10-31', 0.07), ('2016-10-31', 1.35), ('2016-11-01', 0.0), ('2016-11-01', 0.01), ('2016-11-01', 0.0), ('2016-11-01', 0.01), ('2016-11-01', 0.1), ('2016-11-01', 0.09), ('2016-11-02', 0.0), ('2016-11-02', 0.0), ('2016-11-02', 0.0), ('2016-11-02', 0.0), ('2016-11-02', 0.0), ('2016-11-02', 0.04), ('2016-11-03', 0.0), ('2016-11-03', 0.0), ('2016-11-03', 0.0), ('2016-11-03', 0.0), ('2016-11-03', 0.0), ('2016-11-03', 0.02), ('2016-11-04', 0.0), ('2016-11-04', 0.0), ('2016-11-04', 0.0), ('2016-11-04', None), ('2016-11-04', 0.0), ('2016-11-04', 0.0), ('2016-11-04', 0.06), ('2016-11-05', 0.0), ('2016-11-05', 0.02), ('2016-11-05', 0.0), ('2016-11-05', 0.02), ('2016-11-05', 0.03), ('2016-11-05', 0.38), ('2016-11-06', 0.0), ('2016-11-06', 0.02), ('2016-11-06', 0.0), ('2016-11-06', 0.0), ('2016-11-06', 0.01), ('2016-11-06', 0.05), ('2016-11-07', 0.0), ('2016-11-07', 0.0), ('2016-11-07', 0.13), ('2016-11-07', None), ('2016-11-07', 0.0), ('2016-11-07', 0.0), ('2016-11-07', 0.05), ('2016-11-08', 0.07), ('2016-11-08', 0.14), ('2016-11-08', 0.02), ('2016-11-08', 0.15), ('2016-11-08', 0.21), ('2016-11-08', 0.53), ('2016-11-09', 0.0), ('2016-11-09', 0.08), ('2016-11-09', 0.17), ('2016-11-09', 0.0), ('2016-11-09', 0.0), ('2016-11-09', 0.11), ('2016-11-09', 0.04), ('2016-11-10', 0.0), ('2016-11-10', 0.0), ('2016-11-10', 0.0), ('2016-11-10', 0.0), ('2016-11-10', 0.0), ('2016-11-10', 0.01), ('2016-11-11', 0.0), ('2016-11-11', 0.0), ('2016-11-11', 0.0), ('2016-11-11', 0.0), ('2016-11-11', 0.0), ('2016-11-11', 0.0), ('2016-11-12', 0.0), ('2016-11-12', 0.0), ('2016-11-12', 0.0), ('2016-11-12', 0.0), ('2016-11-12', 0.0), ('2016-11-12', 0.0), ('2016-11-13', 0.0), ('2016-11-13', 0.0), ('2016-11-13', 0.0), ('2016-11-13', 0.0), ('2016-11-13', 0.0), ('2016-11-13', 0.0), ('2016-11-14', 0.0), ('2016-11-14', 0.06), ('2016-11-14', 0.05), ('2016-11-14', 0.02), ('2016-11-14', 0.0), ('2016-11-14', 0.0), ('2016-11-14', 0.02), ('2016-11-15', 0.0), ('2016-11-15', 0.0), ('2016-11-15', 0.0), ('2016-11-15', None), ('2016-11-15', 0.0), ('2016-11-15', 0.0), ('2016-11-15', 0.05), ('2016-11-16', 0.0), ('2016-11-16', 0.14), ('2016-11-16', 0.18), ('2016-11-16', None), ('2016-11-16', 0.07), ('2016-11-16', 0.24), ('2016-11-16', 0.91), ('2016-11-17', 0.0), ('2016-11-17', 0.03), ('2016-11-17', 0.0), ('2016-11-17', None), ('2016-11-17', 0.0), ('2016-11-17', 0.01), ('2016-11-17', 0.02), ('2016-11-18', 0.0), ('2016-11-18', 0.01), ('2016-11-18', None), ('2016-11-18', 0.02), ('2016-11-18', 0.0), ('2016-11-19', 0.03), ('2016-11-19', 0.11), ('2016-11-19', 0.13), ('2016-11-19', 0.11), ('2016-11-20', 0.05), ('2016-11-20', 0.11), ('2016-11-20', 0.4), ('2016-11-20', 0.39), ('2016-11-20', None), ('2016-11-21', 0.01), ('2016-11-21', 0.02), ('2016-11-21', None), ('2016-11-21', 0.07), ('2016-11-21', 0.11), ('2016-11-21', 2.87), ('2016-11-22', 0.13), ('2016-11-22', 0.41), ('2016-11-22', None), ('2016-11-22', None), ('2016-11-22', 0.31), ('2016-11-22', 2.05), ('2016-11-22', 2.11), ('2016-11-23', 0.14), ('2016-11-23', 0.03), ('2016-11-23', None), ('2016-11-23', 0.03), ('2016-11-23', 0.25), ('2016-11-23', 0.22), ('2016-11-24', 0.05), ('2016-11-24', 0.2), ('2016-11-24', 0.21), ('2016-11-24', 0.3), ('2016-11-24', 0.72), ('2016-11-25', 0.05), ('2016-11-25', 0.05), ('2016-11-25', None), ('2016-11-25', 0.11), ('2016-11-25', 0.08), ('2016-11-25', 1.03), ('2016-11-26', 0.05), ('2016-11-26', 0.05), ('2016-11-26', 0.02), ('2016-11-26', 0.03), ('2016-11-26', 0.06), ('2016-11-26', 0.3), ('2016-11-27', 0.0), ('2016-11-27', 0.06), ('2016-11-27', 0.03), ('2016-11-27', 0.0), ('2016-11-27', 0.17), ('2016-11-27', 0.29), ('2016-11-28', 0.01), ('2016-11-28', 0.02), ('2016-11-28', 0.0), ('2016-11-28', None), ('2016-11-28', 0.0), ('2016-11-28', 0.0), ('2016-11-28', 0.69), ('2016-11-29', 0.0), ('2016-11-29', 0.04), ('2016-11-29', 0.04), ('2016-11-29', None), ('2016-11-29', 0.06), ('2016-11-29', 0.09), ('2016-11-29', 0.2), ('2016-11-30', 0.14), ('2016-11-30', 0.05), ('2016-11-30', 0.03), ('2016-11-30', None), ('2016-11-30', 0.0), ('2016-11-30', 0.05), ('2016-11-30', 0.79), ('2016-12-01', 0.12), ('2016-12-01', 0.33), ('2016-12-01', 0.07), ('2016-12-01', None), ('2016-12-01', 0.16), ('2016-12-01', 0.37), ('2016-12-01', 0.72), ('2016-12-02', 0.03), ('2016-12-02', 0.3), ('2016-12-02', 0.4), ('2016-12-02', None), ('2016-12-02', 0.01), ('2016-12-02', 0.35), ('2016-12-02', 1.27), ('2016-12-03', 0.0), ('2016-12-03', 0.04), ('2016-12-03', 0.26), ('2016-12-03', 0.02), ('2016-12-03', 0.77), ('2016-12-03', 1.62), ('2016-12-04', 0.03), ('2016-12-04', 0.1), ('2016-12-04', 0.0), ('2016-12-04', 0.32), ('2016-12-04', 0.04), ('2016-12-04', 0.31), ('2016-12-05', 0.43), ('2016-12-05', 0.34), ('2016-12-05', 0.2), ('2016-12-05', None), ('2016-12-05', 0.45), ('2016-12-05', 0.22), ('2016-12-05', 1.6), ('2016-12-06', 0.02), ('2016-12-06', 0.02), ('2016-12-06', None), ('2016-12-06', 0.0), ('2016-12-06', 0.0), ('2016-12-06', 0.0), ('2016-12-07', 0.0), ('2016-12-07', 0.17), ('2016-12-07', None), ('2016-12-07', None), ('2016-12-07', 0.07), ('2016-12-07', 0.12), ('2016-12-07', 0.02), ('2016-12-08', 0.03), ('2016-12-08', 0.03), ('2016-12-08', 0.02), ('2016-12-08', 0.27), ('2016-12-08', 0.01), ('2016-12-08', 0.07), ('2016-12-08', 0.03), ('2016-12-09', 0.52), ('2016-12-09', 0.34), ('2016-12-09', 0.26), ('2016-12-09', None), ('2016-12-09', 0.31), ('2016-12-09', 0.42), ('2016-12-10', 0.05), ('2016-12-10', 0.02), ('2016-12-10', 0.0), ('2016-12-10', None), ('2016-12-10', 0.02), ('2016-12-10', 0.04), ('2016-12-11', 0.04), ('2016-12-11', 0.02), ('2016-12-11', 0.06), ('2016-12-11', 0.0), ('2016-12-11', 0.13), ('2016-12-12', 0.01), ('2016-12-12', 0.01), ('2016-12-12', None), ('2016-12-12', 0.02), ('2016-12-12', 0.0), ('2016-12-12', 0.0), ('2016-12-12', 0.01), ('2016-12-13', 0.05), ('2016-12-13', 0.1), ('2016-12-13', 0.34), ('2016-12-13', None), ('2016-12-13', 0.15), ('2016-12-13', 0.04), ('2016-12-13', 0.09), ('2016-12-14', 0.03), ('2016-12-14', 0.05), ('2016-12-14', 0.12), ('2016-12-14', None), ('2016-12-14', 0.05), ('2016-12-14', 0.92), ('2016-12-14', 0.33), ('2016-12-15', 0.0), ('2016-12-15', 0.02), ('2016-12-15', 0.07), ('2016-12-15', None), ('2016-12-15', 0.0), ('2016-12-15', 0.14), ('2016-12-15', 0.03), ('2016-12-16', 0.0), ('2016-12-16', 0.01), ('2016-12-16', 0.0), ('2016-12-16', None), ('2016-12-16', 0.0), ('2016-12-16', 0.03), ('2016-12-16', 0.0), ('2016-12-17', 0.01), ('2016-12-17', 0.11), ('2016-12-17', 0.0), ('2016-12-17', 0.16), ('2016-12-17', 0.07), ('2016-12-18', 0.13), ('2016-12-18', 0.29), ('2016-12-18', 0.04), ('2016-12-18', 0.27), ('2016-12-18', 0.16), ('2016-12-18', None), ('2016-12-19', 0.01), ('2016-12-19', 0.21), ('2016-12-19', 0.0), ('2016-12-19', None), ('2016-12-19', 0.02), ('2016-12-19', 0.03), ('2016-12-19', 0.15), ('2016-12-20', 0.0), ('2016-12-20', 0.02), ('2016-12-20', 0.0), ('2016-12-20', None), ('2016-12-20', 0.01), ('2016-12-20', 0.0), ('2016-12-20', 0.0), ('2016-12-21', 0.0), ('2016-12-21', 0.03), ('2016-12-21', 0.09), ('2016-12-21', 0.06), ('2016-12-21', 0.06), ('2016-12-21', 0.11), ('2016-12-21', 0.55), ('2016-12-22', 0.01), ('2016-12-22', 0.17), ('2016-12-22', 0.05), ('2016-12-22', None), ('2016-12-22', 0.14), ('2016-12-22', 0.86), ('2016-12-22', 1.24), ('2016-12-23', 0.01), ('2016-12-23', 0.1), ('2016-12-23', 0.03), ('2016-12-23', None), ('2016-12-23', 0.02), ('2016-12-23', 0.24), ('2016-12-23', 0.83), ('2016-12-24', 0.01), ('2016-12-24', 0.14), ('2016-12-24', 0.13), ('2016-12-24', 0.06), ('2016-12-24', 0.2), ('2016-12-24', 1.08), ('2016-12-25', 0.0), ('2016-12-25', 0.03), ('2016-12-25', 0.0), ('2016-12-25', 0.02), ('2016-12-25', 0.38), ('2016-12-26', 0.02), ('2016-12-26', 0.26), ('2016-12-26', None), ('2016-12-26', 0.06), ('2016-12-26', 0.22), ('2016-12-26', 1.48), ('2016-12-27', 0.0), ('2016-12-27', 0.03), ('2016-12-27', 0.02), ('2016-12-27', 0.0), ('2016-12-27', 0.05), ('2016-12-27', 0.14), ('2016-12-28', 0.02), ('2016-12-28', 0.09), ('2016-12-28', 0.01), ('2016-12-28', None), ('2016-12-28', 0.06), ('2016-12-28', 0.09), ('2016-12-28', 0.14), ('2016-12-29', 0.04), ('2016-12-29', 0.18), ('2016-12-29', 0.56), ('2016-12-29', None), ('2016-12-29', 0.05), ('2016-12-29', 0.52), ('2016-12-29', 1.03), ('2016-12-30', 0.12), ('2016-12-30', 0.21), ('2016-12-30', 0.29), ('2016-12-30', None), ('2016-12-30', 0.07), ('2016-12-30', 0.29), ('2016-12-30', 2.37), ('2016-12-31', 0.01), ('2016-12-31', 0.62), ('2016-12-31', 0.36), ('2016-12-31', 0.25), ('2016-12-31', 0.9)]\n"
     ]
    }
   ],
   "source": [
    "# Design a query to retrieve the last 12 months of precipitation data and plot the results\n",
    "precipitation_query= session.query(Measurement.date, Measurement.prcp).\\\n",
    "    filter(Measurement.date >= year_ago, Measurement.date <= '2017,8,23').\\\n",
    "    order_by(Measurement.date).all()\n",
    "\n",
    "print(precipitation_query)\n"
   ]
  },
  {
   "cell_type": "code",
   "execution_count": 25,
   "metadata": {},
   "outputs": [
    {
     "data": {
      "text/html": [
       "<div>\n",
       "<style scoped>\n",
       "    .dataframe tbody tr th:only-of-type {\n",
       "        vertical-align: middle;\n",
       "    }\n",
       "\n",
       "    .dataframe tbody tr th {\n",
       "        vertical-align: top;\n",
       "    }\n",
       "\n",
       "    .dataframe thead th {\n",
       "        text-align: right;\n",
       "    }\n",
       "</style>\n",
       "<table border=\"1\" class=\"dataframe\">\n",
       "  <thead>\n",
       "    <tr style=\"text-align: right;\">\n",
       "      <th></th>\n",
       "    </tr>\n",
       "  </thead>\n",
       "  <tbody>\n",
       "  </tbody>\n",
       "</table>\n",
       "</div>"
      ],
      "text/plain": [
       "Empty DataFrame\n",
       "Columns: []\n",
       "Index: []"
      ]
     },
     "execution_count": 25,
     "metadata": {},
     "output_type": "execute_result"
    }
   ],
   "source": [
    "# Use Pandas to calcualte the summary statistics for the precipitation data\n",
    "df= pd.DataFrame(precipitation_query)\n",
    "df.head(10)"
   ]
  },
  {
   "cell_type": "code",
   "execution_count": 28,
   "metadata": {},
   "outputs": [
    {
     "data": {
      "image/png": "[encoded data removed]",
      "text/plain": [
       "<Figure size 432x288 with 1 Axes>"
      ]
     },
     "metadata": {},
     "output_type": "display_data"
    }
   ],
   "source": [
    "df=pd.DataFrame(precipitation_query)\n",
    "plt.plot(df['date'], df['prcp'])\n",
    "plt.title(\"Precipitation in Hawaii 8-23-16 to 8-23-17\")\n",
    "plt.xlabel('Date')\n",
    "plt.ylabel('Rainfall (In)')\n",
    "plt.legend(['Percipitation'])\n",
    "#plt.tight_layout()\n",
    "#plt.savefig(\"Images/Precipitation.png\")\n",
    "plt.show()"
   ]
  },
  {
   "cell_type": "code",
   "execution_count": 46,
   "metadata": {},
   "outputs": [
    {
     "data": {
      "text/html": [
       "<div>\n",
       "<style scoped>\n",
       "    .dataframe tbody tr th:only-of-type {\n",
       "        vertical-align: middle;\n",
       "    }\n",
       "\n",
       "    .dataframe tbody tr th {\n",
       "        vertical-align: top;\n",
       "    }\n",
       "\n",
       "    .dataframe thead th {\n",
       "        text-align: right;\n",
       "    }\n",
       "</style>\n",
       "<table border=\"1\" class=\"dataframe\">\n",
       "  <thead>\n",
       "    <tr style=\"text-align: right;\">\n",
       "      <th></th>\n",
       "      <th>prcp</th>\n",
       "    </tr>\n",
       "  </thead>\n",
       "  <tbody>\n",
       "    <tr>\n",
       "      <th>count</th>\n",
       "      <td>754.000000</td>\n",
       "    </tr>\n",
       "    <tr>\n",
       "      <th>mean</th>\n",
       "      <td>0.196353</td>\n",
       "    </tr>\n",
       "    <tr>\n",
       "      <th>std</th>\n",
       "      <td>0.472856</td>\n",
       "    </tr>\n",
       "    <tr>\n",
       "      <th>min</th>\n",
       "      <td>0.000000</td>\n",
       "    </tr>\n",
       "    <tr>\n",
       "      <th>25%</th>\n",
       "      <td>0.000000</td>\n",
       "    </tr>\n",
       "    <tr>\n",
       "      <th>50%</th>\n",
       "      <td>0.040000</td>\n",
       "    </tr>\n",
       "    <tr>\n",
       "      <th>75%</th>\n",
       "      <td>0.160000</td>\n",
       "    </tr>\n",
       "    <tr>\n",
       "      <th>max</th>\n",
       "      <td>6.700000</td>\n",
       "    </tr>\n",
       "  </tbody>\n",
       "</table>\n",
       "</div>"
      ],
      "text/plain": [
       "             prcp\n",
       "count  754.000000\n",
       "mean     0.196353\n",
       "std      0.472856\n",
       "min      0.000000\n",
       "25%      0.000000\n",
       "50%      0.040000\n",
       "75%      0.160000\n",
       "max      6.700000"
      ]
     },
     "execution_count": 46,
     "metadata": {},
     "output_type": "execute_result"
    }
   ],
   "source": [
    "df.describe()"
   ]
  },
  {
   "cell_type": "code",
   "execution_count": 43,
   "metadata": {},
   "outputs": [
    {
     "data": {
      "text/plain": [
       "[(9,)]"
      ]
     },
     "execution_count": 43,
     "metadata": {},
     "output_type": "execute_result"
    }
   ],
   "source": [
    "# Design a query to show how many stations are available in this dataset?\n",
    "count_station= engine.execute('Select Count(*) From station;').fetchall()\n",
    "count_station"
   ]
  },
  {
   "cell_type": "code",
   "execution_count": 69,
   "metadata": {},
   "outputs": [
    {
     "data": {
      "text/plain": [
       "[('USC00519281', 2772),\n",
       " ('USC00519397', 2724),\n",
       " ('USC00513117', 2709),\n",
       " ('USC00519523', 2669),\n",
       " ('USC00516128', 2612),\n",
       " ('USC00514830', 2202),\n",
       " ('USC00511918', 1979),\n",
       " ('USC00517948', 1372),\n",
       " ('USC00518838', 511)]"
      ]
     },
     "execution_count": 69,
     "metadata": {},
     "output_type": "execute_result"
    }
   ],
   "source": [
    "# What are the most active stations? (i.e. what stations have the most rows)?\n",
    "# List the stations and the counts in descending order.\n",
    "session.query(Measurement.station,func.count(Measurement.station)).\\\n",
    "        group_by(Measurement.station).\\\n",
    "        order_by(func.count(Measurement.station).desc()).all()"
   ]
  },
  {
   "cell_type": "code",
   "execution_count": 89,
   "metadata": {},
   "outputs": [
    {
     "data": {
      "text/plain": [
       "[(54.0, 85.0, 71.66378066378067)]"
      ]
     },
     "execution_count": 89,
     "metadata": {},
     "output_type": "execute_result"
    }
   ],
   "source": [
    "# Using the station id from the previous query, calculate the lowest temperature recorded, \n",
    "# highest temperature recorded, and average temperature of the most active station?\n",
    "temp=[func.min(Measurement.tobs),\n",
    "      func.max(Measurement.tobs),\n",
    "      func.avg(Measurement.tobs)]\n",
    "session.query(*temp).filter(Measurement.station=='USC00519281').all()"
   ]
  },
  {
   "cell_type": "code",
   "execution_count": 90,
   "metadata": {},
   "outputs": [
    {
     "data": {
      "image/png": "[encoded data removed]",
      "text/plain": [
       "<Figure size 432x288 with 1 Axes>"
      ]
     },
     "metadata": {},
     "output_type": "display_data"
    }
   ],
   "source": [
    "# Choose the station with the highest number of temperature observations.\n",
    "# Query the last 12 months of temperature observation data for this station and plot the results as a histogram\n",
    "histogram = session.query(Measurement.tobs).\\\n",
    "                                filter(Measurement.station=='USC00519281').\\\n",
    "                                filter(Measurement.date >= year_ago).\\\n",
    "                                order_by(Measurement.date.desc()).all()\n",
    "\n",
    "x = [x[0] for x in histogram]\n",
    "\n",
    "\n",
    "plt.hist(x, bins=12)\n",
    "plt.ylabel('Frequency')\n",
    "plt.legend(['tobs'])\n",
    "plt.savefig(\"Images/station-histogram.png\")\n",
    "plt.show()"
   ]
  },
  {
   "cell_type": "markdown",
   "metadata": {},
   "source": [
    "## Bonus Challenge Assignment"
   ]
  },
  {
   "cell_type": "code",
   "execution_count": null,
   "metadata": {},
   "outputs": [],
   "source": [
    "# This function called `calc_temps` will accept start date and end date in the format '%Y-%m-%d' \n",
    "# and return the minimum, average, and maximum temperatures for that range of dates\n",
    "def calc_temps(start_date, end_date):\n",
    "    \"\"\"TMIN, TAVG, and TMAX for a list of dates.\n",
    "    \n",
    "    Args:\n",
    "        start_date (string): A date string in the format %Y-%m-%d\n",
    "        end_date (string): A date string in the format %Y-%m-%d\n",
    "        \n",
    "    Returns:\n",
    "        TMIN, TAVE, and TMAX\n",
    "    \"\"\"\n",
    "    \n",
    "    return session.query(func.min(Measurement.tobs), func.avg(Measurement.tobs), func.max(Measurement.tobs)).\\\n",
    "        filter(Measurement.date >= start_date).filter(Measurement.date <= end_date).all()\n",
    "\n",
    "# function usage example\n",
    "print(calc_temps('2012-02-28', '2012-03-05'))"
   ]
  },
  {
   "cell_type": "code",
   "execution_count": null,
   "metadata": {},
   "outputs": [],
   "source": [
    "# Use your previous function `calc_temps` to calculate the tmin, tavg, and tmax \n",
    "# for your trip using the previous year's data for those same dates.\n"
   ]
  },
  {
   "cell_type": "code",
   "execution_count": null,
   "metadata": {},
   "outputs": [],
   "source": [
    "# Plot the results from your previous query as a bar chart. \n",
    "# Use \"Trip Avg Temp\" as your Title\n",
    "# Use the average temperature for the y value\n",
    "# Use the peak-to-peak (tmax-tmin) value as the y error bar (yerr)\n"
   ]
  },
  {
   "cell_type": "code",
   "execution_count": null,
   "metadata": {},
   "outputs": [],
   "source": [
    "# Calculate the total amount of rainfall per weather station for your trip dates using the previous year's matching dates.\n",
    "# Sort this in descending order by precipitation amount and list the station, name, latitude, longitude, and elevation\n",
    "\n"
   ]
  },
  {
   "cell_type": "code",
   "execution_count": null,
   "metadata": {},
   "outputs": [],
   "source": [
    "# Create a query that will calculate the daily normals \n",
    "# (i.e. the averages for tmin, tmax, and tavg for all historic data matching a specific month and day)\n",
    "\n",
    "def daily_normals(date):\n",
    "    \"\"\"Daily Normals.\n",
    "    \n",
    "    Args:\n",
    "        date (str): A date string in the format '%m-%d'\n",
    "        \n",
    "    Returns:\n",
    "        A list of tuples containing the daily normals, tmin, tavg, and tmax\n",
    "    \n",
    "    \"\"\"\n",
    "    \n",
    "    sel = [func.min(Measurement.tobs), func.avg(Measurement.tobs), func.max(Measurement.tobs)]\n",
    "    return session.query(*sel).filter(func.strftime(\"%m-%d\", Measurement.date) == date).all()\n",
    "    \n",
    "daily_normals(\"01-01\")"
   ]
  },
  {
   "cell_type": "code",
   "execution_count": null,
   "metadata": {},
   "outputs": [],
   "source": [
    "# calculate the daily normals for your trip\n",
    "# push each tuple of calculations into a list called `normals`\n",
    "\n",
    "# Set the start and end date of the trip\n",
    "\n",
    "# Use the start and end date to create a range of dates\n",
    "\n",
    "# Stip off the year and save a list of %m-%d strings\n",
    "\n",
    "# Loop through the list of %m-%d strings and calculate the normals for each date\n"
   ]
  },
  {
   "cell_type": "code",
   "execution_count": null,
   "metadata": {},
   "outputs": [],
   "source": [
    "# Load the previous query results into a Pandas DataFrame and add the `trip_dates` range as the `date` index\n"
   ]
  },
  {
   "cell_type": "code",
   "execution_count": null,
   "metadata": {},
   "outputs": [],
   "source": [
    "# Plot the daily normals as an area plot with `stacked=False`\n"
   ]
  }
 ],
 "metadata": {
  "kernel_info": {
   "name": "python3"
  },
  "kernelspec": {
   "display_name": "Python 3",
   "language": "python",
   "name": "python3"
  },
  "language_info": {
   "codemirror_mode": {
    "name": "ipython",
    "version": 3
   },
   "file_extension": ".py",
   "mimetype": "text/x-python",
   "name": "python",
   "nbconvert_exporter": "python",
   "pygments_lexer": "ipython3",
   "version": "3.6.10"
  },
  "nteract": {
   "version": "0.12.3"
  },
  "varInspector": {
   "cols": {
    "lenName": 16,
    "lenType": 16,
    "lenVar": 40
   },
   "kernels_config": {
    "python": {
     "delete_cmd_postfix": "",
     "delete_cmd_prefix": "del ",
     "library": "var_list.py",
     "varRefreshCmd": "print(var_dic_list())"
    },
    "r": {
     "delete_cmd_postfix": ") ",
     "delete_cmd_prefix": "rm(",
     "library": "var_list.r",
     "varRefreshCmd": "cat(var_dic_list()) "
    }
   },
   "types_to_exclude": [
    "module",
    "function",
    "builtin_function_or_method",
    "instance",
    "_Feature"
   ],
   "window_display": false
  }
 },
 "nbformat": 4,
 "nbformat_minor": 2
}
